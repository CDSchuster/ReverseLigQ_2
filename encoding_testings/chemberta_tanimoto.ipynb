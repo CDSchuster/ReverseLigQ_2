{
 "cells": [
  {
   "cell_type": "code",
   "execution_count": 123,
   "id": "b864877f-cc3c-4bf5-813b-4c6323881290",
   "metadata": {},
   "outputs": [],
   "source": [
    "from transformers import RobertaTokenizer, RobertaModel\n",
    "import torch\n",
    "import pandas as pd\n",
    "import requests\n",
    "from rdkit import Chem\n",
    "from rdkit.Chem import AllChem, DataStructs\n",
    "from rdkit.Chem.rdFingerprintGenerator import GetMorganGenerator\n",
    "import random\n",
    "from scipy.spatial.distance import cosine\n",
    "from sklearn.metrics.pairwise import cosine_similarity\n",
    "import matplotlib.pyplot as plt"
   ]
  },
  {
   "cell_type": "code",
   "execution_count": 102,
   "id": "48acccc6-9359-4ae4-9e28-f3f7557bed80",
   "metadata": {},
   "outputs": [],
   "source": [
    "def random_smiles_tanimoto(filtered_pairs):\n",
    "\n",
    "    pfam_id = random.choice(filtered_pairs['pfam_id'].unique())\n",
    "    smiles_list = filtered_pairs[filtered_pairs['pfam_id'] == pfam_id]['SMILES'].unique()\n",
    "\n",
    "    s1, s2 = random.sample(list(smiles_list), 2)\n",
    "\n",
    "    mol1 = Chem.MolFromSmiles(s1, sanitize=True)\n",
    "    mol2 = Chem.MolFromSmiles(s2, sanitize=True)\n",
    "\n",
    "    # Check if either molecule failed to parse\n",
    "    if mol1 is None or mol2 is None:\n",
    "        return \"Invalid\"\n",
    "\n",
    "    morgan_gen = GetMorganGenerator(radius=2, fpSize=2048)\n",
    "    fp1 = morgan_gen.GetFingerprint(mol1)\n",
    "    fp2 = morgan_gen.GetFingerprint(mol2)\n",
    "\n",
    "    return DataStructs.TanimotoSimilarity(fp1, fp2)"
   ]
  },
  {
   "cell_type": "code",
   "execution_count": null,
   "id": "3d7aedfb-090b-44a7-9612-0cb64c24c39d",
   "metadata": {},
   "outputs": [],
   "source": [
    "data = pd.read_csv(\"~/Projects/ReverseLigQ_2/intsDB.csv\", index_col = 0)\n",
    "data"
   ]
  },
  {
   "cell_type": "code",
   "execution_count": null,
   "id": "446567f0-e544-4f75-b289-880d08fe2c59",
   "metadata": {},
   "outputs": [],
   "source": [
    "smile_pfam_pairs = data[['SMILES', 'pfam_id']].dropna().drop_duplicates()\n",
    "smile_pfam_pairs"
   ]
  },
  {
   "cell_type": "code",
   "execution_count": null,
   "id": "a0f77d34-4bd4-4bcc-9690-cfaa4da4ed14",
   "metadata": {},
   "outputs": [],
   "source": [
    "# Step 1: Count how many times each pfam_id appears (i.e. how many unique SMILES it has)\n",
    "pfam_counts = smile_pfam_pairs['pfam_id'].value_counts()\n",
    "\n",
    "# Step 2: Filter to pfam_ids that appear at least twice\n",
    "pfam_with_multiple_smiles = pfam_counts[pfam_counts >= 2].index\n",
    "\n",
    "# Step 3: Filter the unique_pairs dataframe\n",
    "filtered_pairs = smile_pfam_pairs[smile_pfam_pairs['pfam_id'].isin(pfam_with_multiple_smiles)]\n",
    "\n",
    "filtered_pairs"
   ]
  },
  {
   "cell_type": "code",
   "execution_count": 71,
   "id": "ca180279-11c9-4dd9-b816-612f645e1450",
   "metadata": {},
   "outputs": [],
   "source": [
    "from rdkit.Chem import SanitizeMol, SANITIZE_PROPERTIES"
   ]
  },
  {
   "cell_type": "code",
   "execution_count": null,
   "id": "9d2b2180-dbcb-4049-8edc-ba4e0b31ba28",
   "metadata": {},
   "outputs": [],
   "source": [
    "tanimoto_values = [random_smiles_tanimoto(filtered_pairs) for k in range(10000)]"
   ]
  },
  {
   "cell_type": "code",
   "execution_count": 95,
   "id": "0ce0d7f3-1aef-4b00-9a61-11403a88d491",
   "metadata": {},
   "outputs": [],
   "source": [
    "tanimoto_values = [k for k in tanimoto_values if type(k)!=str]"
   ]
  },
  {
   "cell_type": "code",
   "execution_count": 98,
   "id": "84d0ce53-bb0a-4e18-8ad6-49a9ddd334ad",
   "metadata": {},
   "outputs": [
    {
     "data": {
      "image/png": "[encoded data removed]",
      "text/plain": [
       "<Figure size 432x288 with 1 Axes>"
      ]
     },
     "metadata": {
      "needs_background": "light"
     },
     "output_type": "display_data"
    }
   ],
   "source": [
    "plt.hist(tanimoto_values, bins=50)\n",
    "plt.show()"
   ]
  },
  {
   "cell_type": "code",
   "execution_count": null,
   "id": "66fae67c-102f-46e7-891b-a1808b58c56e",
   "metadata": {},
   "outputs": [],
   "source": [
    "tokenizer = RobertaTokenizer.from_pretrained(\"seyonec/ChemBERTa-zinc-base-v1\")\n",
    "model = RobertaModel.from_pretrained(\"seyonec/ChemBERTa-zinc-base-v1\")\n",
    "\n",
    "# Make sure model is in evaluation mode\n",
    "model.eval()"
   ]
  },
  {
   "cell_type": "code",
   "execution_count": 108,
   "id": "6f965d17-419f-4ba2-9617-15acc64462b1",
   "metadata": {},
   "outputs": [],
   "source": [
    "def random_embeddings_chemberta(model, filtered_pairs):\n",
    "    \n",
    "    pfam_id = random.choice(filtered_pairs['pfam_id'].unique())\n",
    "    smiles_list = filtered_pairs[filtered_pairs['pfam_id'] == pfam_id]['SMILES'].unique()\n",
    "\n",
    "    s1, s2 = random.sample(list(smiles_list), 2)\n",
    "    inputs = tokenizer([s1, s2], return_tensors='pt', padding=True, truncation=True)\n",
    "    \n",
    "    # Get embeddings\n",
    "    with torch.no_grad():\n",
    "        outputs = model(**inputs)\n",
    "        # Use CLS token embedding (first token) as representation\n",
    "        embeddings = outputs.last_hidden_state[:, 0, :]\n",
    "    embeddings = embeddings.numpy()\n",
    "    \n",
    "    return embeddings"
   ]
  },
  {
   "cell_type": "code",
   "execution_count": 109,
   "id": "fa1dec4a-f91d-4607-b0d4-87414b4c9992",
   "metadata": {},
   "outputs": [
    {
     "data": {
      "text/plain": [
       "array([[ 0.3167928 , -1.1660854 , -1.0060098 , ..., -1.0414674 ,\n",
       "         0.08669259,  1.2600448 ],\n",
       "       [ 0.623222  , -0.0257732 ,  0.05027976, ..., -1.9774373 ,\n",
       "        -0.74616134,  1.5629567 ]], dtype=float32)"
      ]
     },
     "execution_count": 109,
     "metadata": {},
     "output_type": "execute_result"
    }
   ],
   "source": [
    "embeddings = random_embeddings_chemberta(model, filtered_pairs)\n",
    "embeddings"
   ]
  },
  {
   "cell_type": "code",
   "execution_count": 124,
   "id": "a1566937-3a6a-40ef-9309-fd02c193456d",
   "metadata": {},
   "outputs": [],
   "source": [
    "def compare_multiple_embeddings(model, filtered_pairs, iterations=1000):\n",
    "    cosine_distances, cosine_similarities = [], []\n",
    "    for k in range(iterations):\n",
    "        if k%100==0: print(k)\n",
    "        embeddings = random_embeddings_chemberta(model, filtered_pairs)\n",
    "        cosine_distances.append(cosine(embeddings[0], embeddings[1]))\n",
    "        cosine_similarities.append(cosine_similarity([embeddings[0]], [embeddings[1]])[0][0])\n",
    "    return cosine_distances, cosine_similarities"
   ]
  },
  {
   "cell_type": "code",
   "execution_count": 125,
   "id": "b211924b-1692-4b5c-9855-5b76fe75fc4a",
   "metadata": {},
   "outputs": [
    {
     "name": "stdout",
     "output_type": "stream",
     "text": [
      "0\n",
      "100\n",
      "200\n",
      "300\n",
      "400\n",
      "500\n",
      "600\n",
      "700\n",
      "800\n",
      "900\n"
     ]
    }
   ],
   "source": [
    "cosine_distances, cosine_similarities = compare_multiple_embeddings(model, filtered_pairs, iterations=1000)"
   ]
  },
  {
   "cell_type": "code",
   "execution_count": 126,
   "id": "01a560ba-aa39-45cc-aa99-77a37ccf04c6",
   "metadata": {},
   "outputs": [
    {
     "data": {
      "image/png": "[encoded data removed]",
      "text/plain": [
       "<Figure size 432x288 with 1 Axes>"
      ]
     },
     "metadata": {
      "needs_background": "light"
     },
     "output_type": "display_data"
    }
   ],
   "source": [
    "plt.hist(cosine_similarities, bins = 100)\n",
    "plt.show()"
   ]
  }
 ],
 "metadata": {
  "kernelspec": {
   "display_name": "Python 3",
   "language": "python",
   "name": "python3"
  },
  "language_info": {
   "codemirror_mode": {
    "name": "ipython",
    "version": 3
   },
   "file_extension": ".py",
   "mimetype": "text/x-python",
   "name": "python",
   "nbconvert_exporter": "python",
   "pygments_lexer": "ipython3",
   "version": "3.8.10"
  }
 },
 "nbformat": 4,
 "nbformat_minor": 5
}

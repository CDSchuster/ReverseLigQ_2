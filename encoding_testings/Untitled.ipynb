{
 "cells": [
  {
   "cell_type": "code",
   "execution_count": 8,
   "id": "b864877f-cc3c-4bf5-813b-4c6323881290",
   "metadata": {},
   "outputs": [],
   "source": [
    "from deepchem.feat import MolGraphConvFeaturizer\n",
    "import deepchem as dc\n",
    "import inspect\n",
    "from rdkit import Chem\n",
    "from rdkit.Chem import SanitizeMol, SanitizeFlags\n",
    "import pandas as pd"
   ]
  },
  {
   "cell_type": "code",
   "execution_count": 3,
   "id": "3d7aedfb-090b-44a7-9612-0cb64c24c39d",
   "metadata": {},
   "outputs": [],
   "source": [
    "data = pd.read_csv(\"~/Projects/ReverseLigQ_2/interactions_DB.csv\")"
   ]
  },
  {
   "cell_type": "code",
   "execution_count": 4,
   "id": "dd2d6b0b-fa8d-4df9-bccb-0f13ea669254",
   "metadata": {},
   "outputs": [],
   "source": [
    "featurizer = MolGraphConvFeaturizer()"
   ]
  },
  {
   "cell_type": "code",
   "execution_count": null,
   "id": "15b43a0f-03ad-43c8-98e8-e9ecc4d22bff",
   "metadata": {},
   "outputs": [],
   "source": [
    "featurizers = [name for name, obj in inspect.getmembers(dc.feat) if \"__\" not in name]\n",
    "featurizers"
   ]
  },
  {
   "cell_type": "code",
   "execution_count": 28,
   "id": "5831bd7e-a8d0-4c3a-95ce-cf7fca776bc1",
   "metadata": {},
   "outputs": [
    {
     "data": {
      "text/plain": [
       "<deepchem.feat.graph_data.GraphData at 0x74f3aa384da0>"
      ]
     },
     "execution_count": 28,
     "metadata": {},
     "output_type": "execute_result"
    }
   ],
   "source": [
    "smiles = list(set(data.SMILES))\n",
    "feats = featurizer.featurize(smiles[0])[0]\n",
    "feats"
   ]
  },
  {
   "cell_type": "code",
   "execution_count": 42,
   "id": "9206a624-ad41-4a55-b363-24aae520fa57",
   "metadata": {},
   "outputs": [
    {
     "ename": "AttributeError",
     "evalue": "'GraphData' object has no attribute 'get_atom_features'",
     "output_type": "error",
     "traceback": [
      "\u001b[31m---------------------------------------------------------------------------\u001b[39m",
      "\u001b[31mAttributeError\u001b[39m                            Traceback (most recent call last)",
      "\u001b[36mCell\u001b[39m\u001b[36m \u001b[39m\u001b[32mIn[42]\u001b[39m\u001b[32m, line 1\u001b[39m\n\u001b[32m----> \u001b[39m\u001b[32m1\u001b[39m \u001b[43mfeats\u001b[49m\u001b[43m.\u001b[49m\u001b[43mget_atom_features\u001b[49m()\n",
      "\u001b[31mAttributeError\u001b[39m: 'GraphData' object has no attribute 'get_atom_features'"
     ]
    }
   ],
   "source": [
    "feats.get_atom_features()"
   ]
  },
  {
   "cell_type": "code",
   "execution_count": 43,
   "id": "469fa482-cdca-4f0c-a33c-226ae37fe22a",
   "metadata": {},
   "outputs": [
    {
     "data": {
      "text/plain": [
       "array([[0., 0., 0., ..., 0., 0., 0.],\n",
       "       [0., 1., 0., ..., 0., 0., 0.],\n",
       "       [0., 0., 1., ..., 0., 0., 0.],\n",
       "       ...,\n",
       "       [1., 0., 0., ..., 0., 0., 0.],\n",
       "       [0., 1., 0., ..., 0., 0., 0.],\n",
       "       [1., 0., 0., ..., 0., 0., 0.]])"
      ]
     },
     "execution_count": 43,
     "metadata": {},
     "output_type": "execute_result"
    }
   ],
   "source": [
    "feats.node_features"
   ]
  }
 ],
 "metadata": {
  "kernelspec": {
   "display_name": "Python 3 (ipykernel)",
   "language": "python",
   "name": "python3"
  },
  "language_info": {
   "codemirror_mode": {
    "name": "ipython",
    "version": 3
   },
   "file_extension": ".py",
   "mimetype": "text/x-python",
   "name": "python",
   "nbconvert_exporter": "python",
   "pygments_lexer": "ipython3",
   "version": "3.12.3"
  }
 },
 "nbformat": 4,
 "nbformat_minor": 5
}

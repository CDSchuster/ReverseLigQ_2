{
 "cells": [
  {
   "cell_type": "code",
   "execution_count": null,
   "id": "b864877f-cc3c-4bf5-813b-4c6323881290",
   "metadata": {},
   "outputs": [],
   "source": [
    "from transformers import RobertaTokenizer, RobertaModel\n",
    "import torch\n",
    "import pandas as pd\n",
    "import requests\n",
    "from rdkit import Chem\n",
    "from rdkit.Chem import AllChem, DataStructs\n",
    "from rdkit.Chem.rdFingerprintGenerator import GetMorganGenerator\n",
    "import random\n",
    "from scipy.spatial.distance import cosine\n",
    "from sklearn.metrics.pairwise import cosine_similarity\n",
    "import matplotlib.pyplot as plt"
   ]
  },
  {
   "cell_type": "markdown",
   "id": "fb25a342-b84c-457e-b77c-9e856dca6172",
   "metadata": {},
   "source": [
    "# Functions and Data Loading"
   ]
  },
  {
   "cell_type": "code",
   "execution_count": 2,
   "id": "48acccc6-9359-4ae4-9e28-f3f7557bed80",
   "metadata": {},
   "outputs": [],
   "source": [
    "def random_smiles_tanimoto(filtered_pairs):\n",
    "\n",
    "    pfam_id = random.choice(filtered_pairs['pfam_id'].unique())\n",
    "    smiles_list = filtered_pairs[filtered_pairs['pfam_id'] == pfam_id]['SMILES'].unique()\n",
    "\n",
    "    s1, s2 = random.sample(list(smiles_list), 2)\n",
    "\n",
    "    mol1 = Chem.MolFromSmiles(s1, sanitize=True)\n",
    "    mol2 = Chem.MolFromSmiles(s2, sanitize=True)\n",
    "\n",
    "    # Check if either molecule failed to parse\n",
    "    if mol1 is None or mol2 is None:\n",
    "        return \"Invalid\"\n",
    "\n",
    "    morgan_gen = GetMorganGenerator(radius=2, fpSize=2048)\n",
    "    fp1 = morgan_gen.GetFingerprint(mol1)\n",
    "    fp2 = morgan_gen.GetFingerprint(mol2)\n",
    "\n",
    "    return DataStructs.TanimotoSimilarity(fp1, fp2)"
   ]
  },
  {
   "cell_type": "code",
   "execution_count": 18,
   "id": "6f965d17-419f-4ba2-9617-15acc64462b1",
   "metadata": {},
   "outputs": [],
   "source": [
    "def random_embeddings_chemberta(model, filtered_pairs):\n",
    "    \n",
    "    pfam_id = random.choice(filtered_pairs['pfam_id'].unique())\n",
    "    smiles_list = filtered_pairs[filtered_pairs['pfam_id'] == pfam_id]['SMILES'].unique()\n",
    "\n",
    "    s1, s2 = random.sample(list(smiles_list), 2)\n",
    "    inputs = tokenizer([s1, s2], return_tensors='pt', padding=True, truncation=True)\n",
    "    \n",
    "    # Get embeddings\n",
    "    with torch.no_grad():\n",
    "        outputs = model(**inputs)\n",
    "        # Use CLS token embedding (first token) as representation\n",
    "        embeddings = outputs.last_hidden_state[:, 0, :]\n",
    "    embeddings = embeddings.numpy()\n",
    "    \n",
    "    return embeddings"
   ]
  },
  {
   "cell_type": "code",
   "execution_count": 10,
   "id": "a1566937-3a6a-40ef-9309-fd02c193456d",
   "metadata": {},
   "outputs": [],
   "source": [
    "def compare_multiple_embeddings(model, filtered_pairs, iterations=1000):\n",
    "    cosine_distances, cosine_similarities = [], []\n",
    "    for k in range(iterations):\n",
    "        if k%100==0: print(k)\n",
    "        embeddings = random_embeddings_chemberta(model, filtered_pairs)\n",
    "        cosine_distances.append(cosine(embeddings[0], embeddings[1]))\n",
    "        cosine_similarities.append(cosine_similarity([embeddings[0]], [embeddings[1]])[0][0])\n",
    "    return cosine_distances, cosine_similarities"
   ]
  },
  {
   "cell_type": "code",
   "execution_count": 4,
   "id": "3d7aedfb-090b-44a7-9612-0cb64c24c39d",
   "metadata": {},
   "outputs": [
    {
     "data": {
      "text/html": [
       "<div>\n",
       "<style scoped>\n",
       "    .dataframe tbody tr th:only-of-type {\n",
       "        vertical-align: middle;\n",
       "    }\n",
       "\n",
       "    .dataframe tbody tr th {\n",
       "        vertical-align: top;\n",
       "    }\n",
       "\n",
       "    .dataframe thead th {\n",
       "        text-align: right;\n",
       "    }\n",
       "</style>\n",
       "<table border=\"1\" class=\"dataframe\">\n",
       "  <thead>\n",
       "    <tr style=\"text-align: right;\">\n",
       "      <th></th>\n",
       "      <th>pdb_id</th>\n",
       "      <th>ligand_chain_id</th>\n",
       "      <th>ligand_id</th>\n",
       "      <th>bm_id</th>\n",
       "      <th>res_chain_id</th>\n",
       "      <th>resid</th>\n",
       "      <th>resnum</th>\n",
       "      <th>SMILES</th>\n",
       "      <th>pfam_id</th>\n",
       "      <th>pfam_name</th>\n",
       "    </tr>\n",
       "  </thead>\n",
       "  <tbody>\n",
       "    <tr>\n",
       "      <th>0</th>\n",
       "      <td>101M</td>\n",
       "      <td>A</td>\n",
       "      <td>HEM</td>\n",
       "      <td>bm2</td>\n",
       "      <td>A</td>\n",
       "      <td>TYR</td>\n",
       "      <td>103</td>\n",
       "      <td>Cc1c2n3c(c1CCC(=O)O)C=C4C(=C(C5=[N]4[Fe]36[N]7...</td>\n",
       "      <td>PF00042</td>\n",
       "      <td>Globin</td>\n",
       "    </tr>\n",
       "    <tr>\n",
       "      <th>1</th>\n",
       "      <td>101M</td>\n",
       "      <td>A</td>\n",
       "      <td>HEM</td>\n",
       "      <td>bm2</td>\n",
       "      <td>A</td>\n",
       "      <td>LEU</td>\n",
       "      <td>104</td>\n",
       "      <td>Cc1c2n3c(c1CCC(=O)O)C=C4C(=C(C5=[N]4[Fe]36[N]7...</td>\n",
       "      <td>PF00042</td>\n",
       "      <td>Globin</td>\n",
       "    </tr>\n",
       "    <tr>\n",
       "      <th>2</th>\n",
       "      <td>101M</td>\n",
       "      <td>A</td>\n",
       "      <td>HEM</td>\n",
       "      <td>bm2</td>\n",
       "      <td>A</td>\n",
       "      <td>ILE</td>\n",
       "      <td>107</td>\n",
       "      <td>Cc1c2n3c(c1CCC(=O)O)C=C4C(=C(C5=[N]4[Fe]36[N]7...</td>\n",
       "      <td>PF00042</td>\n",
       "      <td>Globin</td>\n",
       "    </tr>\n",
       "    <tr>\n",
       "      <th>3</th>\n",
       "      <td>101M</td>\n",
       "      <td>A</td>\n",
       "      <td>HEM</td>\n",
       "      <td>bm2</td>\n",
       "      <td>A</td>\n",
       "      <td>PHE</td>\n",
       "      <td>138</td>\n",
       "      <td>Cc1c2n3c(c1CCC(=O)O)C=C4C(=C(C5=[N]4[Fe]36[N]7...</td>\n",
       "      <td>PF00042</td>\n",
       "      <td>Globin</td>\n",
       "    </tr>\n",
       "    <tr>\n",
       "      <th>4</th>\n",
       "      <td>101M</td>\n",
       "      <td>A</td>\n",
       "      <td>HEM</td>\n",
       "      <td>bm2</td>\n",
       "      <td>A</td>\n",
       "      <td>THR</td>\n",
       "      <td>39</td>\n",
       "      <td>Cc1c2n3c(c1CCC(=O)O)C=C4C(=C(C5=[N]4[Fe]36[N]7...</td>\n",
       "      <td>PF00042</td>\n",
       "      <td>Globin</td>\n",
       "    </tr>\n",
       "    <tr>\n",
       "      <th>...</th>\n",
       "      <td>...</td>\n",
       "      <td>...</td>\n",
       "      <td>...</td>\n",
       "      <td>...</td>\n",
       "      <td>...</td>\n",
       "      <td>...</td>\n",
       "      <td>...</td>\n",
       "      <td>...</td>\n",
       "      <td>...</td>\n",
       "      <td>...</td>\n",
       "    </tr>\n",
       "    <tr>\n",
       "      <th>5881918</th>\n",
       "      <td>9CLJ</td>\n",
       "      <td>A_27</td>\n",
       "      <td>IHP</td>\n",
       "      <td>bm99</td>\n",
       "      <td>A_27</td>\n",
       "      <td>LYS</td>\n",
       "      <td>25</td>\n",
       "      <td>C1(C(C(C(C(C1OP(=O)(O)O)OP(=O)(O)O)OP(=O)(O)O)...</td>\n",
       "      <td>NaN</td>\n",
       "      <td>NaN</td>\n",
       "    </tr>\n",
       "    <tr>\n",
       "      <th>5881919</th>\n",
       "      <td>9CLJ</td>\n",
       "      <td>A_27</td>\n",
       "      <td>IHP</td>\n",
       "      <td>bm99</td>\n",
       "      <td>A_27</td>\n",
       "      <td>LYS</td>\n",
       "      <td>25</td>\n",
       "      <td>C1(C(C(C(C(C1OP(=O)(O)O)OP(=O)(O)O)OP(=O)(O)O)...</td>\n",
       "      <td>NaN</td>\n",
       "      <td>NaN</td>\n",
       "    </tr>\n",
       "    <tr>\n",
       "      <th>5881920</th>\n",
       "      <td>9CLJ</td>\n",
       "      <td>A_27</td>\n",
       "      <td>IHP</td>\n",
       "      <td>bm99</td>\n",
       "      <td>A_27</td>\n",
       "      <td>LYS</td>\n",
       "      <td>25</td>\n",
       "      <td>C1(C(C(C(C(C1OP(=O)(O)O)OP(=O)(O)O)OP(=O)(O)O)...</td>\n",
       "      <td>NaN</td>\n",
       "      <td>NaN</td>\n",
       "    </tr>\n",
       "    <tr>\n",
       "      <th>5881921</th>\n",
       "      <td>9CLJ</td>\n",
       "      <td>A_27</td>\n",
       "      <td>IHP</td>\n",
       "      <td>bm99</td>\n",
       "      <td>A_27</td>\n",
       "      <td>LYS</td>\n",
       "      <td>25</td>\n",
       "      <td>C1(C(C(C(C(C1OP(=O)(O)O)OP(=O)(O)O)OP(=O)(O)O)...</td>\n",
       "      <td>NaN</td>\n",
       "      <td>NaN</td>\n",
       "    </tr>\n",
       "    <tr>\n",
       "      <th>5881922</th>\n",
       "      <td>9CLJ</td>\n",
       "      <td>A_27</td>\n",
       "      <td>IHP</td>\n",
       "      <td>bm99</td>\n",
       "      <td>A_27</td>\n",
       "      <td>LYS</td>\n",
       "      <td>25</td>\n",
       "      <td>C1(C(C(C(C(C1OP(=O)(O)O)OP(=O)(O)O)OP(=O)(O)O)...</td>\n",
       "      <td>NaN</td>\n",
       "      <td>NaN</td>\n",
       "    </tr>\n",
       "  </tbody>\n",
       "</table>\n",
       "<p>5878167 rows × 10 columns</p>\n",
       "</div>"
      ],
      "text/plain": [
       "        pdb_id ligand_chain_id ligand_id bm_id res_chain_id resid  resnum  \\\n",
       "0         101M               A       HEM   bm2            A   TYR     103   \n",
       "1         101M               A       HEM   bm2            A   LEU     104   \n",
       "2         101M               A       HEM   bm2            A   ILE     107   \n",
       "3         101M               A       HEM   bm2            A   PHE     138   \n",
       "4         101M               A       HEM   bm2            A   THR      39   \n",
       "...        ...             ...       ...   ...          ...   ...     ...   \n",
       "5881918   9CLJ            A_27       IHP  bm99         A_27   LYS      25   \n",
       "5881919   9CLJ            A_27       IHP  bm99         A_27   LYS      25   \n",
       "5881920   9CLJ            A_27       IHP  bm99         A_27   LYS      25   \n",
       "5881921   9CLJ            A_27       IHP  bm99         A_27   LYS      25   \n",
       "5881922   9CLJ            A_27       IHP  bm99         A_27   LYS      25   \n",
       "\n",
       "                                                    SMILES  pfam_id pfam_name  \n",
       "0        Cc1c2n3c(c1CCC(=O)O)C=C4C(=C(C5=[N]4[Fe]36[N]7...  PF00042    Globin  \n",
       "1        Cc1c2n3c(c1CCC(=O)O)C=C4C(=C(C5=[N]4[Fe]36[N]7...  PF00042    Globin  \n",
       "2        Cc1c2n3c(c1CCC(=O)O)C=C4C(=C(C5=[N]4[Fe]36[N]7...  PF00042    Globin  \n",
       "3        Cc1c2n3c(c1CCC(=O)O)C=C4C(=C(C5=[N]4[Fe]36[N]7...  PF00042    Globin  \n",
       "4        Cc1c2n3c(c1CCC(=O)O)C=C4C(=C(C5=[N]4[Fe]36[N]7...  PF00042    Globin  \n",
       "...                                                    ...      ...       ...  \n",
       "5881918  C1(C(C(C(C(C1OP(=O)(O)O)OP(=O)(O)O)OP(=O)(O)O)...      NaN       NaN  \n",
       "5881919  C1(C(C(C(C(C1OP(=O)(O)O)OP(=O)(O)O)OP(=O)(O)O)...      NaN       NaN  \n",
       "5881920  C1(C(C(C(C(C1OP(=O)(O)O)OP(=O)(O)O)OP(=O)(O)O)...      NaN       NaN  \n",
       "5881921  C1(C(C(C(C(C1OP(=O)(O)O)OP(=O)(O)O)OP(=O)(O)O)...      NaN       NaN  \n",
       "5881922  C1(C(C(C(C(C1OP(=O)(O)O)OP(=O)(O)O)OP(=O)(O)O)...      NaN       NaN  \n",
       "\n",
       "[5878167 rows x 10 columns]"
      ]
     },
     "execution_count": 4,
     "metadata": {},
     "output_type": "execute_result"
    }
   ],
   "source": [
    "data = pd.read_csv(\"~/Projects/ReverseLigQ_2/interactions_DB.csv\", index_col = 0)\n",
    "data"
   ]
  },
  {
   "cell_type": "code",
   "execution_count": 5,
   "id": "446567f0-e544-4f75-b289-880d08fe2c59",
   "metadata": {},
   "outputs": [
    {
     "data": {
      "text/html": [
       "<div>\n",
       "<style scoped>\n",
       "    .dataframe tbody tr th:only-of-type {\n",
       "        vertical-align: middle;\n",
       "    }\n",
       "\n",
       "    .dataframe tbody tr th {\n",
       "        vertical-align: top;\n",
       "    }\n",
       "\n",
       "    .dataframe thead th {\n",
       "        text-align: right;\n",
       "    }\n",
       "</style>\n",
       "<table border=\"1\" class=\"dataframe\">\n",
       "  <thead>\n",
       "    <tr style=\"text-align: right;\">\n",
       "      <th></th>\n",
       "      <th>SMILES</th>\n",
       "      <th>pfam_id</th>\n",
       "    </tr>\n",
       "  </thead>\n",
       "  <tbody>\n",
       "    <tr>\n",
       "      <th>0</th>\n",
       "      <td>Cc1c2n3c(c1CCC(=O)O)C=C4C(=C(C5=[N]4[Fe]36[N]7...</td>\n",
       "      <td>PF00042</td>\n",
       "    </tr>\n",
       "    <tr>\n",
       "      <th>158</th>\n",
       "      <td>c1ccc(cc1)CSCC(C(=O)NC(c2ccccc2)C(=O)O)NC(=O)C...</td>\n",
       "      <td>PF14497</td>\n",
       "    </tr>\n",
       "    <tr>\n",
       "      <th>189</th>\n",
       "      <td>c1nc(c2c(n1)n(cn2)C3C(C(C(O3)CSCCC(C(=O)O)N)O)O)N</td>\n",
       "      <td>PF00145</td>\n",
       "    </tr>\n",
       "    <tr>\n",
       "      <th>258</th>\n",
       "      <td>c1nc(c2c(n1)n(cn2)C3C(C(C(O3)COP(=O)(O)OC4C(C(...</td>\n",
       "      <td>PF00074</td>\n",
       "    </tr>\n",
       "    <tr>\n",
       "      <th>282</th>\n",
       "      <td>c1nc2c(n1C3C(C(C(O3)COP(=O)(O)OC4C(C(OC4N5C=CC...</td>\n",
       "      <td>PF00074</td>\n",
       "    </tr>\n",
       "    <tr>\n",
       "      <th>...</th>\n",
       "      <td>...</td>\n",
       "      <td>...</td>\n",
       "    </tr>\n",
       "    <tr>\n",
       "      <th>5876495</th>\n",
       "      <td>c1ccc2c(c1)cccc2CNc3[nH]c4cc5c(cc4n3)C(=O)NC(=...</td>\n",
       "      <td>PF01702</td>\n",
       "    </tr>\n",
       "    <tr>\n",
       "      <th>5876541</th>\n",
       "      <td>c1ccc(cc1)C(c2ccc(cc2)c3c4c([nH]cn4)ncn3)N</td>\n",
       "      <td>PF00069</td>\n",
       "    </tr>\n",
       "    <tr>\n",
       "      <th>5876555</th>\n",
       "      <td>c1cc(ccc1c2c3c([nH]cn3)ncn2)C4(CCNCC4)c5ccc(cc...</td>\n",
       "      <td>PF00069</td>\n",
       "    </tr>\n",
       "    <tr>\n",
       "      <th>5876596</th>\n",
       "      <td>Cc1c(c[nH]n1)c2ccc(cc2)CCN</td>\n",
       "      <td>PF00069</td>\n",
       "    </tr>\n",
       "    <tr>\n",
       "      <th>5877884</th>\n",
       "      <td>CC(C)(C)C(C(=O)NN(CCCC(Cc1ccccc1)(C(=O)NC2c3cc...</td>\n",
       "      <td>PF00077</td>\n",
       "    </tr>\n",
       "  </tbody>\n",
       "</table>\n",
       "<p>43836 rows × 2 columns</p>\n",
       "</div>"
      ],
      "text/plain": [
       "                                                    SMILES  pfam_id\n",
       "0        Cc1c2n3c(c1CCC(=O)O)C=C4C(=C(C5=[N]4[Fe]36[N]7...  PF00042\n",
       "158      c1ccc(cc1)CSCC(C(=O)NC(c2ccccc2)C(=O)O)NC(=O)C...  PF14497\n",
       "189      c1nc(c2c(n1)n(cn2)C3C(C(C(O3)CSCCC(C(=O)O)N)O)O)N  PF00145\n",
       "258      c1nc(c2c(n1)n(cn2)C3C(C(C(O3)COP(=O)(O)OC4C(C(...  PF00074\n",
       "282      c1nc2c(n1C3C(C(C(O3)COP(=O)(O)OC4C(C(OC4N5C=CC...  PF00074\n",
       "...                                                    ...      ...\n",
       "5876495  c1ccc2c(c1)cccc2CNc3[nH]c4cc5c(cc4n3)C(=O)NC(=...  PF01702\n",
       "5876541         c1ccc(cc1)C(c2ccc(cc2)c3c4c([nH]cn4)ncn3)N  PF00069\n",
       "5876555  c1cc(ccc1c2c3c([nH]cn3)ncn2)C4(CCNCC4)c5ccc(cc...  PF00069\n",
       "5876596                         Cc1c(c[nH]n1)c2ccc(cc2)CCN  PF00069\n",
       "5877884  CC(C)(C)C(C(=O)NN(CCCC(Cc1ccccc1)(C(=O)NC2c3cc...  PF00077\n",
       "\n",
       "[43836 rows x 2 columns]"
      ]
     },
     "execution_count": 5,
     "metadata": {},
     "output_type": "execute_result"
    }
   ],
   "source": [
    "smile_pfam_pairs = data[['SMILES', 'pfam_id']].dropna().drop_duplicates()\n",
    "smile_pfam_pairs"
   ]
  },
  {
   "cell_type": "code",
   "execution_count": 6,
   "id": "a0f77d34-4bd4-4bcc-9690-cfaa4da4ed14",
   "metadata": {},
   "outputs": [
    {
     "data": {
      "text/html": [
       "<div>\n",
       "<style scoped>\n",
       "    .dataframe tbody tr th:only-of-type {\n",
       "        vertical-align: middle;\n",
       "    }\n",
       "\n",
       "    .dataframe tbody tr th {\n",
       "        vertical-align: top;\n",
       "    }\n",
       "\n",
       "    .dataframe thead th {\n",
       "        text-align: right;\n",
       "    }\n",
       "</style>\n",
       "<table border=\"1\" class=\"dataframe\">\n",
       "  <thead>\n",
       "    <tr style=\"text-align: right;\">\n",
       "      <th></th>\n",
       "      <th>SMILES</th>\n",
       "      <th>pfam_id</th>\n",
       "    </tr>\n",
       "  </thead>\n",
       "  <tbody>\n",
       "    <tr>\n",
       "      <th>0</th>\n",
       "      <td>Cc1c2n3c(c1CCC(=O)O)C=C4C(=C(C5=[N]4[Fe]36[N]7...</td>\n",
       "      <td>PF00042</td>\n",
       "    </tr>\n",
       "    <tr>\n",
       "      <th>158</th>\n",
       "      <td>c1ccc(cc1)CSCC(C(=O)NC(c2ccccc2)C(=O)O)NC(=O)C...</td>\n",
       "      <td>PF14497</td>\n",
       "    </tr>\n",
       "    <tr>\n",
       "      <th>189</th>\n",
       "      <td>c1nc(c2c(n1)n(cn2)C3C(C(C(O3)CSCCC(C(=O)O)N)O)O)N</td>\n",
       "      <td>PF00145</td>\n",
       "    </tr>\n",
       "    <tr>\n",
       "      <th>258</th>\n",
       "      <td>c1nc(c2c(n1)n(cn2)C3C(C(C(O3)COP(=O)(O)OC4C(C(...</td>\n",
       "      <td>PF00074</td>\n",
       "    </tr>\n",
       "    <tr>\n",
       "      <th>282</th>\n",
       "      <td>c1nc2c(n1C3C(C(C(O3)COP(=O)(O)OC4C(C(OC4N5C=CC...</td>\n",
       "      <td>PF00074</td>\n",
       "    </tr>\n",
       "    <tr>\n",
       "      <th>...</th>\n",
       "      <td>...</td>\n",
       "      <td>...</td>\n",
       "    </tr>\n",
       "    <tr>\n",
       "      <th>5876495</th>\n",
       "      <td>c1ccc2c(c1)cccc2CNc3[nH]c4cc5c(cc4n3)C(=O)NC(=...</td>\n",
       "      <td>PF01702</td>\n",
       "    </tr>\n",
       "    <tr>\n",
       "      <th>5876541</th>\n",
       "      <td>c1ccc(cc1)C(c2ccc(cc2)c3c4c([nH]cn4)ncn3)N</td>\n",
       "      <td>PF00069</td>\n",
       "    </tr>\n",
       "    <tr>\n",
       "      <th>5876555</th>\n",
       "      <td>c1cc(ccc1c2c3c([nH]cn3)ncn2)C4(CCNCC4)c5ccc(cc...</td>\n",
       "      <td>PF00069</td>\n",
       "    </tr>\n",
       "    <tr>\n",
       "      <th>5876596</th>\n",
       "      <td>Cc1c(c[nH]n1)c2ccc(cc2)CCN</td>\n",
       "      <td>PF00069</td>\n",
       "    </tr>\n",
       "    <tr>\n",
       "      <th>5877884</th>\n",
       "      <td>CC(C)(C)C(C(=O)NN(CCCC(Cc1ccccc1)(C(=O)NC2c3cc...</td>\n",
       "      <td>PF00077</td>\n",
       "    </tr>\n",
       "  </tbody>\n",
       "</table>\n",
       "<p>42728 rows × 2 columns</p>\n",
       "</div>"
      ],
      "text/plain": [
       "                                                    SMILES  pfam_id\n",
       "0        Cc1c2n3c(c1CCC(=O)O)C=C4C(=C(C5=[N]4[Fe]36[N]7...  PF00042\n",
       "158      c1ccc(cc1)CSCC(C(=O)NC(c2ccccc2)C(=O)O)NC(=O)C...  PF14497\n",
       "189      c1nc(c2c(n1)n(cn2)C3C(C(C(O3)CSCCC(C(=O)O)N)O)O)N  PF00145\n",
       "258      c1nc(c2c(n1)n(cn2)C3C(C(C(O3)COP(=O)(O)OC4C(C(...  PF00074\n",
       "282      c1nc2c(n1C3C(C(C(O3)COP(=O)(O)OC4C(C(OC4N5C=CC...  PF00074\n",
       "...                                                    ...      ...\n",
       "5876495  c1ccc2c(c1)cccc2CNc3[nH]c4cc5c(cc4n3)C(=O)NC(=...  PF01702\n",
       "5876541         c1ccc(cc1)C(c2ccc(cc2)c3c4c([nH]cn4)ncn3)N  PF00069\n",
       "5876555  c1cc(ccc1c2c3c([nH]cn3)ncn2)C4(CCNCC4)c5ccc(cc...  PF00069\n",
       "5876596                         Cc1c(c[nH]n1)c2ccc(cc2)CCN  PF00069\n",
       "5877884  CC(C)(C)C(C(=O)NN(CCCC(Cc1ccccc1)(C(=O)NC2c3cc...  PF00077\n",
       "\n",
       "[42728 rows x 2 columns]"
      ]
     },
     "execution_count": 6,
     "metadata": {},
     "output_type": "execute_result"
    }
   ],
   "source": [
    "# Step 1: Count how many times each pfam_id appears (i.e. how many unique SMILES it has)\n",
    "pfam_counts = smile_pfam_pairs['pfam_id'].value_counts()\n",
    "\n",
    "# Step 2: Filter to pfam_ids that appear at least twice\n",
    "pfam_with_multiple_smiles = pfam_counts[pfam_counts >= 2].index\n",
    "\n",
    "# Step 3: Filter the unique_pairs dataframe\n",
    "filtered_pairs = smile_pfam_pairs[smile_pfam_pairs['pfam_id'].isin(pfam_with_multiple_smiles)]\n",
    "\n",
    "filtered_pairs"
   ]
  },
  {
   "cell_type": "markdown",
   "id": "d46089a8-fb25-4c0b-bfff-3d7637461e93",
   "metadata": {},
   "source": [
    "# Tanimoto distribution"
   ]
  },
  {
   "cell_type": "code",
   "execution_count": null,
   "id": "9d2b2180-dbcb-4049-8edc-ba4e0b31ba28",
   "metadata": {},
   "outputs": [],
   "source": [
    "tanimoto_values = [random_smiles_tanimoto(filtered_pairs) for k in range(10000)]"
   ]
  },
  {
   "cell_type": "code",
   "execution_count": 95,
   "id": "0ce0d7f3-1aef-4b00-9a61-11403a88d491",
   "metadata": {},
   "outputs": [],
   "source": [
    "tanimoto_values = [k for k in tanimoto_values if type(k)!=str]"
   ]
  },
  {
   "cell_type": "code",
   "execution_count": 98,
   "id": "84d0ce53-bb0a-4e18-8ad6-49a9ddd334ad",
   "metadata": {},
   "outputs": [
    {
     "data": {
      "image/png": "[encoded data removed]",
      "text/plain": [
       "<Figure size 432x288 with 1 Axes>"
      ]
     },
     "metadata": {
      "needs_background": "light"
     },
     "output_type": "display_data"
    }
   ],
   "source": [
    "plt.hist(tanimoto_values, bins=50)\n",
    "plt.show()"
   ]
  },
  {
   "cell_type": "markdown",
   "id": "b3ad00a6-8222-4ce1-9c06-683c154ec0c6",
   "metadata": {},
   "source": [
    "# CHEMBERTa distribution"
   ]
  },
  {
   "cell_type": "markdown",
   "id": "708bff55-dff8-4b78-ac94-038c55aa4d19",
   "metadata": {},
   "source": [
    "## Comparison between SMILEs that bind the same Pfam domain"
   ]
  },
  {
   "cell_type": "code",
   "execution_count": null,
   "id": "66fae67c-102f-46e7-891b-a1808b58c56e",
   "metadata": {},
   "outputs": [],
   "source": [
    "tokenizer = RobertaTokenizer.from_pretrained(\"seyonec/ChemBERTa-zinc-base-v1\")\n",
    "model = RobertaModel.from_pretrained(\"seyonec/ChemBERTa-zinc-base-v1\")\n",
    "\n",
    "# Make sure model is in evaluation mode\n",
    "model.eval()"
   ]
  },
  {
   "cell_type": "code",
   "execution_count": 19,
   "id": "fa1dec4a-f91d-4607-b0d4-87414b4c9992",
   "metadata": {},
   "outputs": [
    {
     "data": {
      "text/plain": [
       "array([[ 0.2620638 , -0.615782  , -0.5710712 , ..., -0.5373292 ,\n",
       "        -0.2503488 ,  1.3675458 ],\n",
       "       [ 0.40867192, -0.3828146 , -0.37193283, ..., -0.8736427 ,\n",
       "        -0.35382625,  1.6185278 ]], dtype=float32)"
      ]
     },
     "execution_count": 19,
     "metadata": {},
     "output_type": "execute_result"
    }
   ],
   "source": [
    "embeddings = random_embeddings_chemberta(model, filtered_pairs)\n",
    "embeddings"
   ]
  },
  {
   "cell_type": "code",
   "execution_count": 20,
   "id": "b211924b-1692-4b5c-9855-5b76fe75fc4a",
   "metadata": {},
   "outputs": [
    {
     "name": "stdout",
     "output_type": "stream",
     "text": [
      "0\n",
      "100\n",
      "200\n",
      "300\n",
      "400\n",
      "500\n",
      "600\n",
      "700\n",
      "800\n",
      "900\n"
     ]
    }
   ],
   "source": [
    "cosine_distances, cosine_similarities = compare_multiple_embeddings(model, filtered_pairs, iterations=1000)"
   ]
  },
  {
   "cell_type": "code",
   "execution_count": 21,
   "id": "01a560ba-aa39-45cc-aa99-77a37ccf04c6",
   "metadata": {},
   "outputs": [
    {
     "data": {
      "image/png": "[encoded data removed]",
      "text/plain": [
       "<Figure size 432x288 with 1 Axes>"
      ]
     },
     "metadata": {
      "needs_background": "light"
     },
     "output_type": "display_data"
    }
   ],
   "source": [
    "plt.hist(cosine_similarities, bins = 100)\n",
    "plt.show()"
   ]
  },
  {
   "cell_type": "markdown",
   "id": "9f297c08-ba0e-406c-9ec7-aea27e9fec9b",
   "metadata": {},
   "source": [
    "## Comparison between completely random SMILEs"
   ]
  },
  {
   "cell_type": "code",
   "execution_count": 15,
   "id": "b3671c84-3d04-4056-a442-fb040b26307e",
   "metadata": {},
   "outputs": [],
   "source": [
    "similarities = []\n",
    "for k in range(1000):\n",
    "    s1, s2 = random.sample(list(filtered_pairs.SMILES.unique()), 2)\n",
    "    inputs = tokenizer([s1, s2], return_tensors='pt', padding=True, truncation=True)\n",
    "    \n",
    "    # Get embeddings\n",
    "    with torch.no_grad():\n",
    "        outputs = model(**inputs)\n",
    "        # Use CLS token embedding (first token) as representation\n",
    "        embeddings = outputs.last_hidden_state[:, 0, :]\n",
    "    embeddings = embeddings.numpy()\n",
    "    \n",
    "    similarities.append(cosine_similarity([embeddings[0]], [embeddings[1]])[0][0])"
   ]
  },
  {
   "cell_type": "code",
   "execution_count": null,
   "id": "a7838a19-1f27-4f96-be06-da974aead3ff",
   "metadata": {},
   "outputs": [
    {
     "data": {
      "image/png": "[encoded data removed]",
      "text/plain": [
       "<Figure size 432x288 with 1 Axes>"
      ]
     },
     "metadata": {
      "needs_background": "light"
     },
     "output_type": "display_data"
    }
   ],
   "source": [
    "plt.hist(similarities, bins = 100)\n",
    "plt.show()"
   ]
  }
 ],
 "metadata": {
  "kernelspec": {
   "display_name": "Python 3",
   "language": "python",
   "name": "python3"
  },
  "language_info": {
   "codemirror_mode": {
    "name": "ipython",
    "version": 3
   },
   "file_extension": ".py",
   "mimetype": "text/x-python",
   "name": "python",
   "nbconvert_exporter": "python",
   "pygments_lexer": "ipython3",
   "version": "3.8.10"
  }
 },
 "nbformat": 4,
 "nbformat_minor": 5
}
